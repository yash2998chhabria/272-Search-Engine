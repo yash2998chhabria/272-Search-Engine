{
 "cells": [
  {
   "cell_type": "code",
   "execution_count": 122,
   "id": "e7a08bc6-b890-4f15-b712-8587e049c974",
   "metadata": {},
   "outputs": [],
   "source": [
    "###Parsing Dataset into Json###\n",
    "f = open(\"dataset/ohsumed.88-91\", \"r\")"
   ]
  },
  {
   "cell_type": "code",
   "execution_count": 123,
   "id": "36b26e89-7e6b-41e4-b70d-7ca39c90337b",
   "metadata": {},
   "outputs": [],
   "source": [
    "def ohsumed_dict():\n",
    "    \"\"\"Returns a dict.\"\"\"\n",
    "\n",
    "    data = {\n",
    "        \"seq_id\": -1,\n",
    "        \"medline_ui\": -1,\n",
    "        \"mesh_terms\": \"\",\n",
    "        \"title\": \"\",\n",
    "        \"publication_type\": \"\",\n",
    "        \"abstract\": \"\",\n",
    "        \"author\": \"\",\n",
    "        \"source\": \"\",\n",
    "    }\n",
    "\n",
    "    return data"
   ]
  },
  {
   "cell_type": "code",
   "execution_count": 124,
   "id": "c43b44eb-d5c4-42de-913b-5d636e8d2e6e",
   "metadata": {},
   "outputs": [],
   "source": [
    "def parse_file(f):\n",
    "    data = ohsumed_dict()\n",
    "    \n",
    "    tag = \"\"\n",
    "    column_map = {\n",
    "            \".I\": \"seq_id\",\n",
    "            \".U\": \"medline_ui\",\n",
    "            \".M\": \"mesh_terms\",\n",
    "            \".T\": \"title\",\n",
    "            \".P\": \"publication_type\",\n",
    "            \".W\": \"abstract\",\n",
    "            \".A\": \"author\",\n",
    "            \".S\": \"source\",\n",
    "        }\n",
    "    \n",
    "    for line in f.readlines():\n",
    "        \n",
    "        if line.startswith(\".I\"):\n",
    "            tag = \".I\"\n",
    "            if data[\"medline_ui\"] != -1:\n",
    "                yield {\n",
    "                    \"seq_id\": data[\"seq_id\"],\n",
    "                    \"medline_ui\": data[\"medline_ui\"],\n",
    "                    \"mesh_terms\": str(data[\"mesh_terms\"]),\n",
    "                    \"title\": str(data[\"title\"]),\n",
    "                    \"publication_type\": str(data[\"publication_type\"]),\n",
    "                    \"abstract\": str(data[\"abstract\"]),\n",
    "                    \"author\": str(data[\"author\"]),\n",
    "                    \"source\": str(data[\"source\"]),\n",
    "                }\n",
    "            else:\n",
    "                data = ohsumed_dict()\n",
    "                line = line.replace(\".I\", \"\").strip()\n",
    "                data[\"seq_id\"] = line\n",
    "        elif tag and not line.startswith(\".\"):\n",
    "            key = column_map[tag]\n",
    "            data[key] = line.rstrip()\n",
    "        elif \".U\" in line:\n",
    "            tag = \".U\"\n",
    "        elif \".M\" in line:\n",
    "            tag = \".M\"\n",
    "        elif \".T\" in line:\n",
    "            tag = \".T\"\n",
    "        elif \".P\" in line:\n",
    "            tag = \".P\"\n",
    "        elif \".W\" in line:\n",
    "            tag = \".W\"\n",
    "        elif \".A\" in line:\n",
    "            tag = \".A\"\n",
    "        elif \".S\" in line:\n",
    "            tag = \".S\"\n",
    "    "
   ]
  },
  {
   "cell_type": "code",
   "execution_count": 125,
   "id": "e91df301-e040-4e70-9b08-b9bd9efffaaf",
   "metadata": {},
   "outputs": [],
   "source": [
    "\n",
    "final_data = []\n",
    "for data in parse_file(f):\n",
    "    final_data.append(data)"
   ]
  },
  {
   "cell_type": "code",
   "execution_count": 126,
   "id": "32af41ac-4921-4beb-b58f-dfd31a5844cc",
   "metadata": {},
   "outputs": [],
   "source": [
    "import json \n",
    "with open(\"data/json_files/mydata.json\", \"w\") as final:\n",
    "    json.dump(final_data, final)"
   ]
  },
  {
   "cell_type": "code",
   "execution_count": 113,
   "id": "6a54009d-1c04-42f7-a60f-5883721ccc5b",
   "metadata": {},
   "outputs": [],
   "source": [
    "###Pasrsing Querydataset into Json###\n",
    "f = open(\"dataset/query.ohsu.1-63\", \"r\")"
   ]
  },
  {
   "cell_type": "code",
   "execution_count": 114,
   "id": "7aa310e0-a0dc-49c5-bd67-7ed42d2cf8ac",
   "metadata": {},
   "outputs": [],
   "source": [
    "def ohsumed_query_dict():\n",
    "    \"\"\"Returns a dict.\"\"\"\n",
    "\n",
    "    data = {\n",
    "        \"query_number\": \"\",\n",
    "        \"title\": \"\",\n",
    "        \"description\": \"\",\n",
    "    }\n",
    "\n",
    "    return data"
   ]
  },
  {
   "cell_type": "code",
   "execution_count": 115,
   "id": "5a5bf72a-9818-49fb-8975-f67358ee805b",
   "metadata": {},
   "outputs": [
    {
     "name": "stdout",
     "output_type": "stream",
     "text": [
      "{'query_number': 'OHSU23', 'title': '64 yo black male', 'description': 'occult blood screening, need for routine screening'}\n"
     ]
    }
   ],
   "source": [
    "query_list = []\n",
    "doc = ohsumed_query_dict()\n",
    "for line in f.readlines():\n",
    "    if line.startswith(\"</top>\"):\n",
    "        query_list.append(doc)\n",
    "        doc = ohsumed_query_dict()\n",
    "    elif line.startswith(\"<num> Number:\"):\n",
    "        line = line.replace(\"<num> Number:\", \"\").strip()\n",
    "        doc[\"query_number\"] = line\n",
    "    elif line.startswith(\"<title>\"):\n",
    "        line = line.replace(\"<title>\",\"\").strip()\n",
    "        doc[\"title\"] = line \n",
    "    elif \"<\" not in line:\n",
    "        doc[\"description\"] += line.strip()\n",
    "        \n",
    "print(query_list[22])\n",
    "        \n",
    "        "
   ]
  },
  {
   "cell_type": "code",
   "execution_count": 116,
   "id": "903a03db-8795-427c-a38d-efe6c0aa292e",
   "metadata": {},
   "outputs": [],
   "source": [
    "import json \n",
    "with open(\"data/querydata.json\", \"w\") as final:\n",
    "    json.dump(query_list, final)"
   ]
  },
  {
   "cell_type": "code",
   "execution_count": null,
   "id": "f2e949d7-c84c-42ae-b40e-837ef81b5e75",
   "metadata": {},
   "outputs": [],
   "source": []
  }
 ],
 "metadata": {
  "kernelspec": {
   "display_name": "Python 3",
   "language": "python",
   "name": "python3"
  },
  "language_info": {
   "codemirror_mode": {
    "name": "ipython",
    "version": 3
   },
   "file_extension": ".py",
   "mimetype": "text/x-python",
   "name": "python",
   "nbconvert_exporter": "python",
   "pygments_lexer": "ipython3",
   "version": "3.8.8"
  }
 },
 "nbformat": 4,
 "nbformat_minor": 5
}
